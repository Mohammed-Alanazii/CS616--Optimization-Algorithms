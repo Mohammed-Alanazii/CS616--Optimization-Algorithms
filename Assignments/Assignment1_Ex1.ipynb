{
 "cells": [
  {
   "cell_type": "code",
   "execution_count": 3,
   "id": "8b270e17",
   "metadata": {},
   "outputs": [],
   "source": [
    "import gurobipy as gp\n",
    "from gurobipy import GRB"
   ]
  },
  {
   "cell_type": "code",
   "execution_count": 4,
   "id": "91f1172d",
   "metadata": {},
   "outputs": [
    {
     "name": "stdout",
     "output_type": "stream",
     "text": [
      "X[12am-3am]: 4.0\n",
      "X[3am-6am]: 0.0\n",
      "X[6am-9am]: 8.0\n",
      "X[9am-12pm]: 12.0\n",
      "X[12pm-3pm]: 0.0\n",
      "X[3pm-6pm]: 12.0\n",
      "X[6pm-9pm]: 2.0\n",
      "X[9pm-12am]: -0.0\n",
      "Optimal cost: $1092.0\n"
     ]
    }
   ],
   "source": [
    "shifts = {\"12am-3am\": 6, \"3am-6am\": 4, \"6am-9am\": 12, \"9am-12pm\": 20, \"12pm-3pm\": 20, \"3pm-6pm\": 24, \"6pm-9pm\": 14, \"9pm-12am\": 14}\n",
    "periods = list(shifts.keys()) # time periods\n",
    "min_op = list(shifts.values()) # minimum operators needed per period\n",
    "cost = (36,36,36,25,25,25,30,30)  # cost per shift\n",
    "n = len(periods)\n",
    "model = gp.Model(\"shift_scheduling\")\n",
    "# Create decision variables\n",
    "X = model.addVars(periods, vtype=GRB.INTEGER, name=\"X\")\n",
    "# Set objective: minimize cost\n",
    "model.setObjective(gp.quicksum(cost[i] * X[periods[i]] for i in range(n)), GRB.MINIMIZE)\n",
    "# Add constraints: minimum operators per period\n",
    "for i in range(n):\n",
    "    shift_to_consider = [periods[i],\n",
    "                         periods[(i-1) % n],\n",
    "                         periods[(i-2) % n]\n",
    "                         ]\n",
    "    model.addConstr(gp.quicksum(X[s] for s in shift_to_consider) >= min_op[i], name=f\"min_op_{periods[i]}\")\n",
    "gp.setParam('OutputFlag', 0)\n",
    "model.optimize()\n",
    "for v in model.getVars():\n",
    "    print(f\"{v.varName}: {v.x}\")\n",
    "print(f\"Optimal cost: ${model.objVal}\")\n",
    "model.write(\"Assignment1_Ex1.lp\")"
   ]
  }
 ],
 "metadata": {
  "kernelspec": {
   "display_name": "Python 3",
   "language": "python",
   "name": "python3"
  },
  "language_info": {
   "codemirror_mode": {
    "name": "ipython",
    "version": 3
   },
   "file_extension": ".py",
   "mimetype": "text/x-python",
   "name": "python",
   "nbconvert_exporter": "python",
   "pygments_lexer": "ipython3",
   "version": "3.9.6"
  }
 },
 "nbformat": 4,
 "nbformat_minor": 5
}
