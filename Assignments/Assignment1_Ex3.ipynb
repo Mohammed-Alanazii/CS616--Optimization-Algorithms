{
 "cells": [
  {
   "cell_type": "code",
   "execution_count": 28,
   "id": "7bd3921c",
   "metadata": {},
   "outputs": [],
   "source": [
    "import gurobipy as gp\n",
    "from gurobipy import GRB"
   ]
  },
  {
   "cell_type": "code",
   "execution_count": 29,
   "id": "6f750f15",
   "metadata": {},
   "outputs": [
    {
     "name": "stdout",
     "output_type": "stream",
     "text": [
      "Packages to be buy from[Supplier1]: 15.0\n",
      "Packages to be buy from[Supplier2]: 5.0\n",
      "Optimal Cost: 48.0\n"
     ]
    }
   ],
   "source": [
    "packages = {\n",
    "    \"Supplier1\":{\"Tables\":1, \"Benches\":3, \"Trashcans\":4, \"Cost\":2},\n",
    "    \"Supplier2\": {\"Tables\":3, \"Benches\":2, \"Trashcans\":6, \"Cost\":3.6}\n",
    "}\n",
    "items = list(packages.keys())\n",
    "min_req = {\"Tables\":30, \"Benches\":40, \"Trashcans\":90}\n",
    "Budget = 50\n",
    "\n",
    "model = gp.Model(\"Municipality\")\n",
    "X = model.addVars(items, vtype=GRB.INTEGER, name = \"Packages to be buy from\")\n",
    "model.setObjective(sum(packages[i][\"Cost\"] * X[i] for i in items), GRB.MINIMIZE)\n",
    "model.addConstr(sum(packages[i][\"Tables\"] * X[i] for i in items) >= min_req[\"Tables\"], \"Tables\")\n",
    "model.addConstr(sum(packages[i][\"Benches\"] * X[i] for i in items) >= min_req[\"Benches\"], \"Benches\")\n",
    "model.addConstr(sum(packages[i][\"Trashcans\"] * X[i] for i in items) >= min_req[\"Trashcans\"], \"Trashcans\")\n",
    "model.addConstr(sum(packages[i][\"Cost\"] * X[i] for i in items) <= Budget, \"Budget\")\n",
    "model.setParam('OutputFlag', False)\n",
    "model.optimize()\n",
    "\n",
    "for v in model.getVars():\n",
    "    print(f\"{v.VarName}: {v.X}\")\n",
    "print(f\"Optimal Cost: {model.ObjVal}\")\n",
    "model.write(\"Assignment1_Ex3.lp\")\n"
   ]
  }
 ],
 "metadata": {
  "kernelspec": {
   "display_name": "Python 3",
   "language": "python",
   "name": "python3"
  },
  "language_info": {
   "codemirror_mode": {
    "name": "ipython",
    "version": 3
   },
   "file_extension": ".py",
   "mimetype": "text/x-python",
   "name": "python",
   "nbconvert_exporter": "python",
   "pygments_lexer": "ipython3",
   "version": "3.9.6"
  }
 },
 "nbformat": 4,
 "nbformat_minor": 5
}
