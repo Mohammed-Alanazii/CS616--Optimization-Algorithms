{
 "cells": [
  {
   "cell_type": "code",
   "execution_count": 5,
   "id": "eaab9680",
   "metadata": {},
   "outputs": [],
   "source": [
    "import gurobipy as gp\n",
    "from gurobipy import GRB"
   ]
  },
  {
   "cell_type": "code",
   "execution_count": 6,
   "id": "a4fa7bc8",
   "metadata": {},
   "outputs": [
    {
     "name": "stdout",
     "output_type": "stream",
     "text": [
      "Optimal number of USB drives used: 2\n",
      "----------------------------------------\n",
      "Total size in USB drive1: 2019 MB, Files count: 7\n",
      "List of files in USB drive1:\n",
      "File1, File4, File7, File9, File10, File15, File16\n",
      "----------------------------------------\n",
      "Total size in USB drive2: 2031 MB, Files count: 9\n",
      "List of files in USB drive2:\n",
      "File2, File3, File5, File6, File8, File11, File12, File13, File14\n",
      "----------------------------------------\n",
      "Total size in USB drive3: 0 MB, Files count: 0\n",
      "List of files in USB drive3:\n",
      "\n"
     ]
    }
   ],
   "source": [
    "usb_drives = {\"USB1\":2100,\"USB2\":2100,\"USB3\":2100\n",
    "              }\n",
    "files = {\"File1\":26,\"File2\":35,\"File3\":52,\"File4\":77,\"File5\":88,\n",
    "        \"File6\":94,\"File7\":137,\"File8\":164,\"File9\":253,\"File10\":364,\n",
    "        \"File11\":372,\"File12\":388,\"File13\":406,\"File14\":432,\"File15\":461,\n",
    "        \"File16\":701\n",
    "         }\n",
    "model = gp.Model(\"Data Storage\")\n",
    "X = model.addVars(files, usb_drives, vtype=GRB.BINARY, name = \"X_ij\")\n",
    "Y = model.addVars(usb_drives, vtype=GRB.BINARY, name = \"Y_j\")\n",
    "model.setObjective(gp.quicksum (Y[j] for j in usb_drives), GRB.MINIMIZE)\n",
    "model.addConstrs((gp.quicksum(X[i,j] for j in usb_drives) == 1 for i in files), name= \"one copy assignment\")\n",
    "model.addConstrs((gp.quicksum(files[i]*X[i,j] for i in files) <= usb_drives[j]* Y[j] for j in usb_drives), name= \"capacity constraint\")\n",
    "model.setParam('OutputFlag', False)\n",
    "model.optimize()\n",
    "\n",
    "\n",
    "print(f\"Optimal number of USB drives used: {model.ObjVal.__round__()}\")\n",
    "print(\"-\"*40 )\n",
    "files_in_usb1 = [f for f in files if X[f, \"USB1\"].X > 0.5]\n",
    "files_in_usb2 = [f for f in files if X[f, \"USB2\"].X > 0.5]\n",
    "files_in_usb3 = [f for f in files if X[f, \"USB3\"].X > 0.5]\n",
    "total_size_usb1 = sum(files[f] for f in files_in_usb1)\n",
    "total_size_usb2 = sum(files[f] for f in files_in_usb2)\n",
    "total_size_usb3 = sum(files[f] for f in files_in_usb3)\n",
    "print(f\"Total size in USB drive1: {total_size_usb1} MB, Files count: {len(files_in_usb1)}\")\n",
    "print(\"List of files in USB drive1:\")\n",
    "print(', '.join(files_in_usb1))\n",
    "print(\"-\"*40 )\n",
    "print(f\"Total size in USB drive2: {total_size_usb2} MB, Files count: {len(files_in_usb2)}\")\n",
    "print(\"List of files in USB drive2:\")\n",
    "print(', '.join(files_in_usb2))\n",
    "print(\"-\"*40 )\n",
    "print(f\"Total size in USB drive3: {total_size_usb3} MB, Files count: {len(files_in_usb3)}\")\n",
    "print(\"List of files in USB drive3:\")\n",
    "print(', '.join(files_in_usb3))\n",
    "\n",
    "model.write(\"Assignment1_Ex4.lp\")\n"
   ]
  }
 ],
 "metadata": {
  "kernelspec": {
   "display_name": "Python 3",
   "language": "python",
   "name": "python3"
  },
  "language_info": {
   "codemirror_mode": {
    "name": "ipython",
    "version": 3
   },
   "file_extension": ".py",
   "mimetype": "text/x-python",
   "name": "python",
   "nbconvert_exporter": "python",
   "pygments_lexer": "ipython3",
   "version": "3.9.6"
  }
 },
 "nbformat": 4,
 "nbformat_minor": 5
}
