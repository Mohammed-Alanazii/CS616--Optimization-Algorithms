{
 "cells": [
  {
   "cell_type": "code",
   "execution_count": 1,
   "id": "a6726c08",
   "metadata": {},
   "outputs": [],
   "source": [
    "import gurobipy as gp\n",
    "from gurobipy import GRB"
   ]
  },
  {
   "cell_type": "code",
   "execution_count": 2,
   "id": "54119091",
   "metadata": {},
   "outputs": [
    {
     "name": "stdout",
     "output_type": "stream",
     "text": [
      "Set parameter Username\n",
      "Set parameter LicenseID to value 2708323\n",
      "X[Carrots], 0.60\n",
      "X[Potatoes], 1.20\n",
      "Total cost: 2.40\n"
     ]
    }
   ],
   "source": [
    "food_data = {\n",
    "    \"Carrots\": {\"cost\": 2, \"calories\": 1, \"vitamin_B\": 4, \"vitamin_A\": 3},\n",
    "    \"Potatoes\": {\"cost\": 1, \"calories\": 2, \"vitamin_B\": 3, \"vitamin_A\": 1},  \n",
    "}\n",
    "food = list(food_data.keys())\n",
    "min_req = {\"calories\":2, \"vitamin_B\":6, \"vitamin_A\":3}\n",
    "\n",
    "\n",
    "model = gp.Model(\"feeding\")\n",
    "X = model.addVars(food, vtype=GRB.CONTINUOUS, lb= 0, name=\"X\")\n",
    "model.setObjective(gp.quicksum(food_data[i][\"cost\"]* X[i] for i in food), GRB.MINIMIZE)\n",
    "model.addConstr(gp.quicksum(food_data[i][\"calories\"]* X[i] for i in food) >= min_req[\"calories\"], \"calories\")\n",
    "model.addConstr(gp.quicksum(food_data[i][\"vitamin_B\"]* X[i] for i in food) >= min_req[\"vitamin_B\"], \"vitamin_B\")\n",
    "model.addConstr(gp.quicksum(food_data[i][\"vitamin_A\"]* X[i] for i in food) >= min_req[\"vitamin_A\"], \"vitamin_A\")\n",
    "gp.setParam('OutputFlag', 0)\n",
    "\n",
    "model.optimize()\n",
    "for v in model.getVars():\n",
    "    print(f\"{v.VarName}, {v.X:.2f}\")\n",
    "print(f\"Total cost: {model.ObjVal:.2f}\")\n",
    "\n",
    "model.write(\"Assignment1_Ex2.lp\")"
   ]
  }
 ],
 "metadata": {
  "kernelspec": {
   "display_name": "Python 3",
   "language": "python",
   "name": "python3"
  },
  "language_info": {
   "codemirror_mode": {
    "name": "ipython",
    "version": 3
   },
   "file_extension": ".py",
   "mimetype": "text/x-python",
   "name": "python",
   "nbconvert_exporter": "python",
   "pygments_lexer": "ipython3",
   "version": "3.9.6"
  }
 },
 "nbformat": 4,
 "nbformat_minor": 5
}
