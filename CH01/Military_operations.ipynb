{
 "cells": [
  {
   "cell_type": "markdown",
   "id": "5e621239",
   "metadata": {},
   "source": [
    "### Military Operation\n",
    "\n",
    "During a military operation, an officer must choose the members of a patrol of minimum size among the different soldiers who are under his command and whose skills are described in the table below:\n",
    "| Soldier | Radio | Camouflage | Sniper | Physical | NCO |\n",
    "| ------- | ----- | ---------- | ------ | -------- | --- |\n",
    "| A       | 1     | 1          | 6      | 5        | 1   |\n",
    "| B       | 0     | 1          | 8      | 7        | 0   |\n",
    "| C       | 1     | 1          | 7      | 7        | 0   |\n",
    "| D       | 1     | 0          | 4      | 9        | 0   |\n",
    "| E       | 0     | 1          | 7      | 9        | 1   |\n",
    "| F       | 1     | 0          | 8      | 6        | 0   |\n",
    "\n",
    "\n",
    "The officer must respect the following conditions:\n",
    "* One and only one non-commissioned officer is needed.\n",
    "* At least 1 Radio operator and at least 1 Camouflage specialist are required.\n",
    "* At least two radio operators will not be part of the patrol in order to remain available for other missions.\n",
    "* Patrol members must have an average sniping rate of at least 7 and an average physical endurance rate of at least 7.5.\n",
    "* If solder A is part of the patrol, then neither B nor C should be part of it.\n"
   ]
  },
  {
   "cell_type": "markdown",
   "id": "a7a82cc9",
   "metadata": {},
   "source": [
    "\\begin{align*}\n",
    "\\text{Decision variables:}\\quad\n",
    "& X_{A},X_{B},X_{C},X_{D},X_{E},X_{F}\\in\\{0,1\\}\\\\[4pt]\n",
    "\\text{Objective function:}\\quad\n",
    "& \\min Z= X_{A}+X_{B}+X_{C}+X_{D}+X_{E}+X_{F}\\\\[8pt]\n",
    "\\text{Subject to:}\\\\[4pt]\n",
    "\\text{NCO requirement: One and only one NCO is needed.}\\;& X_{A}+X_{E}=1\\\\[2pt]\n",
    "\\text{Radio requirement: At least 1 Radio operator.}\\;& X_{A}+X_{C}+X_{D}+X_{F}\\ge 1\\\\[2pt]\n",
    "\\text{Radio requirement: At most two radio operators will be a part of the patrol.}\\;& X_{A}+X_{C}+X_{D}+X_{F}\\le 2\\\\[2pt]\n",
    "\\text{Camouflage requirement: At least 1 Camouflage specialist.}\\;& X_{A}+X_{B}+X_{C}+X_{E}\\ge 1\\\\[2pt]\n",
    "\\text{Sniping rate requirement: At least 7 of average sniping rate.}\\;& 6X_{A}+8X_{B}+7X_{C}+4X_{D}+7X_{E}+8X_{F}\\ge 7(X_{A}+X_{B}+X_{C}+X_{D}+X_{E}+X_{F})\\\\[2pt]\n",
    "\\text{Physical endurance rate requirement: At least 7.5 of average physical endurance}\\;& 5X_{A}+7X_{B}+7X_{C}+9X_{D}+9X_{E}+6X_{F}\\ge 7.5(X_{A}+X_{B}+X_{C}+X_{D}+X_{E}+X_{F})\\\\[2pt]\n",
    "\\text{Co-existence requirement: If solder A is part of the patrol, then neither B nor C should be part of it.}\\;& 2X_{A}+X_{B}+X_{C}\\le 2\n",
    "\\end{align*}"
   ]
  },
  {
   "cell_type": "code",
   "execution_count": 5,
   "id": "e51b8c1c",
   "metadata": {},
   "outputs": [],
   "source": [
    "#import all the needed libraries\n",
    "import gurobipy as gp\n",
    "from gurobipy import GRB"
   ]
  },
  {
   "cell_type": "code",
   "execution_count": 6,
   "id": "d13fb24a",
   "metadata": {},
   "outputs": [],
   "source": [
    "data = { 'soldiers' : ['A', 'B', 'C', 'D', 'E', 'F'],\n",
    "        'radio': {'A':1 , 'B':0, 'C':1, 'D':1, 'E':0, 'F':1},\n",
    "        'camouflage': {'A':1 , 'B':1, 'C':1, 'D':0, 'E':1, 'F':0},\n",
    "        'sniper': {'A':6, 'B':8, 'C':7, 'D':4, 'E':7, 'F':8},\n",
    "        'physical': {'A':5, 'B':7, 'C':7, 'D':9, 'E':9, 'F':6},\n",
    "        'NCO': {'A':1 , 'B':0, 'C':0, 'D':1, 'E':1, 'F':0}\n",
    "        }"
   ]
  },
  {
   "cell_type": "code",
   "execution_count": 7,
   "id": "90c4986b",
   "metadata": {},
   "outputs": [],
   "source": [
    "#build the model\n",
    "model = gp.Model('military_operations')\n",
    "\n",
    "#create the decision variables\n",
    "X = model.addVars(data['soldiers'], vtype=GRB.BINARY, name='X')"
   ]
  },
  {
   "cell_type": "code",
   "execution_count": 8,
   "id": "094d56dc",
   "metadata": {},
   "outputs": [
    {
     "data": {
      "text/plain": [
       "<gurobi.Constr *Awaiting Model Update*>"
      ]
     },
     "execution_count": 8,
     "metadata": {},
     "output_type": "execute_result"
    }
   ],
   "source": [
    "#set the objective function\n",
    "model.setObjective(sum(X[s] for s in data['soldiers']), GRB.MINIMIZE)\n",
    "\n",
    "#add the constraints\n",
    "model.addConstr(sum(data['NCO'][s] * X[s] for s in data['soldiers']) == 1, name='NCO_constraint')\n",
    "model.addConstr(sum(data['radio'][s] * X[s] for s in data['soldiers']) >= 1, name='radio_in')\n",
    "model.addConstr(sum(data['radio'][s] * X[s] for s in data['soldiers']) <= 2, name='radio_max')\n",
    "model.addConstr(sum(data['camouflage'][s] * X[s] for s in data['soldiers']) >= 1, name='camouflage_in')\n",
    "model.addConstr(sum(data['sniper'][s] * X[s] for s in data['soldiers']) >= 7 * X.sum(), name='avg_sniper')\n",
    "model.addConstr(sum(data['physical'][s] * X[s] for s in data['soldiers']) >= 7.5 * X.sum(), name='avg_physical')\n",
    "model.addConstr(2 * X['A'] + X['B'] + X['C'] <= 2, name='Coexist_A_B_C')"
   ]
  },
  {
   "cell_type": "code",
   "execution_count": 9,
   "id": "10a0cf2d",
   "metadata": {},
   "outputs": [
    {
     "name": "stdout",
     "output_type": "stream",
     "text": [
      "Total Soldiers Selected: 2.0\n",
      "Selected Soldiers: ['E', 'F']\n"
     ]
    }
   ],
   "source": [
    "#turn off the Gurobi output\n",
    "model.setParam('OutputFlag', 0)\n",
    "\n",
    "#optimize the model\n",
    "model.optimize()\n",
    "\n",
    "#print the results\n",
    "print(f\"Total Soldiers Selected: {model.ObjVal}\")\n",
    "print('Selected Soldiers:', [s for s in data['soldiers'] if X[s].X > 0.5])"
   ]
  }
 ],
 "metadata": {
  "kernelspec": {
   "display_name": ".venv (3.13.7)",
   "language": "python",
   "name": "python3"
  },
  "language_info": {
   "codemirror_mode": {
    "name": "ipython",
    "version": 3
   },
   "file_extension": ".py",
   "mimetype": "text/x-python",
   "name": "python",
   "nbconvert_exporter": "python",
   "pygments_lexer": "ipython3",
   "version": "3.13.7"
  }
 },
 "nbformat": 4,
 "nbformat_minor": 5
}
