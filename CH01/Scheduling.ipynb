{
 "cells": [
  {
   "cell_type": "markdown",
   "id": "44616a92",
   "metadata": {},
   "source": [
    "### Hospital Nurses Scheduling\n",
    "\n",
    "A hospital service director is responsible for organizing the nurses’ schedules.\n",
    "A working day is divided into 12 time slots of two hours each. \n",
    "Staffing needs vary from one time slot to another. \n",
    "For example, few nurses are needed during the night, but the staff must be reinforced in the morning to ensure patient care. \n",
    "The table beside gives the staffing needs for each of the time slots.\n",
    "What is the minimum number of nurses needed to cover time slot requirements? It’s important to know that each nurse works 8 hours a day and has a 2-hours break after 4 hours of work.\n",
    "\n",
    "<img src = \"image03.png\" alt = \"Nurse time schedule\" width = \"350\">"
   ]
  },
  {
   "cell_type": "markdown",
   "id": "3e494ae0",
   "metadata": {},
   "source": [
    "### Decision variables\n",
    "$X_i = \\text{Minimum nurses needed per shift } i, \\quad \\text{for } i = 1, 2, \\dots, 12$"
   ]
  },
  {
   "cell_type": "markdown",
   "id": "575e6a86",
   "metadata": {},
   "source": [
    "### Objective Function\n",
    "Minimize the number of nurses per shift with satisfying all constrains \\\n",
    "$\\text{Minimize} \\quad Z = \\sum_{i=1}^{12} X_i$"
   ]
  },
  {
   "cell_type": "markdown",
   "id": "b695263b",
   "metadata": {},
   "source": [
    "### Constraints\n",
    "The sum of each (shift(i), the shift 2 hours before, 6 hours before and 8 hours before) must be greater or equal to the shift (i) min requirement nurses\n",
    "\\begin{align}\n",
    "& X_i + X_{i-1} + X_{i-3} + X_{i-4} \\ge \\text{MinReq}_i \\\\\n",
    "& \\text{for each shift } i \\in \\{1, 2, \\dots, 12\\}, \\\\\n",
    "& \\text{indices taken modulo 12 (e.g.\\ } X_{0} \\equiv X_{12}).\n",
    "\\end{align}"
   ]
  },
  {
   "cell_type": "code",
   "execution_count": 1,
   "id": "4c39fd06",
   "metadata": {},
   "outputs": [],
   "source": [
    "#import all the needed library\n",
    "import gurobipy as gp\n",
    "from gurobipy import GRB"
   ]
  },
  {
   "cell_type": "code",
   "execution_count": 2,
   "id": "50ff8369",
   "metadata": {},
   "outputs": [],
   "source": [
    "#prepare data\n",
    "\n",
    "shifts_data = {\"6am-8am\": 35,\n",
    "             \"8am-10am\": 40,\n",
    "             \"10am-12pm\": 40,\n",
    "             \"12pm-2pm\": 35,\n",
    "             \"2pm-4pm\": 30,\n",
    "             \"4pm-6pm\": 30,\n",
    "             \"6pm-8pm\": 35,\n",
    "             \"8pm-10pm\": 30,\n",
    "             \"10pm-12am\": 20,\n",
    "             \"12am-2am\": 15,\n",
    "             \"2am-4am\": 15,\n",
    "             \"4am-6am\": 15}\n",
    "min_req = list(shifts_data.values())\n",
    "shift_names = list(shifts_data.keys())\n",
    "N = len(shift_names)"
   ]
  },
  {
   "cell_type": "code",
   "execution_count": 3,
   "id": "efee9bb6",
   "metadata": {},
   "outputs": [
    {
     "name": "stdout",
     "output_type": "stream",
     "text": [
      "Set parameter WLSAccessID\n",
      "Set parameter WLSSecret\n",
      "Set parameter LicenseID to value 2713610\n",
      "Academic license 2713610 - for non-commercial use only - registered to 44___@std.psau.edu.sa\n"
     ]
    }
   ],
   "source": [
    "#build model\n",
    "model = gp.Model(\"shift_scheduling\")\n",
    "\n",
    "\n",
    "#create decision variables\n",
    "X = model.addVars(shift_names, vtype=GRB.INTEGER, name=\"num_nurses_per_shift\")"
   ]
  },
  {
   "cell_type": "code",
   "execution_count": 4,
   "id": "672c0d00",
   "metadata": {},
   "outputs": [],
   "source": [
    "#objective function\n",
    "model.setObjective(sum(X[shift] for shift in shift_names), GRB.MINIMIZE)"
   ]
  },
  {
   "cell_type": "code",
   "execution_count": 5,
   "id": "9967738e",
   "metadata": {},
   "outputs": [],
   "source": [
    "#add constraints\n",
    "for i in range(N):\n",
    "    shifts_to_consider = [\n",
    "        shift_names[i],\n",
    "        shift_names[(i - 1) % N],\n",
    "        shift_names[(i - 3) % N],\n",
    "        shift_names[(i - 4) % N]\n",
    "    ]\n",
    "    model.addConstr(sum(X[shift] for shift in shifts_to_consider) >= min_req[i]\n",
    "                    )\n"
   ]
  },
  {
   "cell_type": "code",
   "execution_count": 6,
   "id": "a22c5b9c",
   "metadata": {},
   "outputs": [
    {
     "name": "stdout",
     "output_type": "stream",
     "text": [
      "6am-8am: 20 nurses\n",
      "8am-10am: 20 nurses\n",
      "10am-12pm: 5 nurses\n",
      "12pm-2pm: 5 nurses\n",
      "2pm-4pm: 10 nurses\n",
      "4pm-6pm: 10 nurses\n",
      "6pm-8pm: 15 nurses\n",
      "8pm-10pm: -0 nurses\n",
      "10pm-12am: -0 nurses\n",
      "12am-2am: -0 nurses\n",
      "2am-4am: -0 nurses\n",
      "4am-6am: 15 nurses\n",
      "Optimal total number of nurses: 100\n"
     ]
    }
   ],
   "source": [
    "#turn off the solver output\n",
    "gp.setParam('OutputFlag', 0)\n",
    "\n",
    "#optimize the model\n",
    "model.optimize()\n",
    "\n",
    "#print the results\n",
    "for shift in shift_names:\n",
    "    print(f\"{shift}: {X[shift].X:.0f} nurses\")\n",
    "print(f\"Optimal total number of nurses: {model.ObjVal:.0f}\")"
   ]
  }
 ],
 "metadata": {
  "kernelspec": {
   "display_name": ".venv (3.13.7)",
   "language": "python",
   "name": "python3"
  },
  "language_info": {
   "codemirror_mode": {
    "name": "ipython",
    "version": 3
   },
   "file_extension": ".py",
   "mimetype": "text/x-python",
   "name": "python",
   "nbconvert_exporter": "python",
   "pygments_lexer": "ipython3",
   "version": "3.13.7"
  }
 },
 "nbformat": 4,
 "nbformat_minor": 5
}
