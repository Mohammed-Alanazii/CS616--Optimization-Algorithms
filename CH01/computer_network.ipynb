{
 "cells": [
  {
   "cell_type": "markdown",
   "id": "7d2cdf60",
   "metadata": {},
   "source": [
    "### Computer Network Example\n",
    "- Given an IP network where we consider only one direction of transmission indicated by arrows.\n",
    "- The number on each link indicates the time taken by an IP packet (in seconds) to be transferred over that link.\n",
    "- What is the fastest path to forward an IP packet from router A to router G?\n",
    "\n",
    "\n",
    "<img src=\"image01.png\" alt=\"Network diagram showing routers A through G with directional links and transmission times\" width=\"400\" height=\"auto\">"
   ]
  },
  {
   "cell_type": "markdown",
   "id": "b7004b57",
   "metadata": {},
   "source": [
    "### Decision Variables\n",
    "\n",
    "$x_{ij} \\in \\{0,1\\}$ for all links $(i,j)$ in the network\n",
    "\n",
    "where:\n",
    "- $x_{ij} = 1$ if link from node $i$ to node $j$ is used in the path\n",
    "- $x_{ij} = 0$ otherwise\n"
   ]
  },
  {
   "cell_type": "markdown",
   "id": "e28f8dfc",
   "metadata": {},
   "source": [
    "### Objective Function\n",
    "\n",
    "Minimize the total time (cost) of the path from A to G:\n",
    "\n",
    "$\\min Z = \\sum_{(i,j)\\in\\mathcal{A}} d_{ij} X_{ij}$\n",
    "\n",
    "where  \n",
    "- $\\mathcal{A}$ is the set of directed arcs,  \n",
    "- $d_{a}$ is the cost on arc $a$,  \n",
    "- $x_{a} \\in \\{0,1\\}$ indicates whether arc $a$ is used.\n"
   ]
  },
  {
   "cell_type": "markdown",
   "id": "282aebc4",
   "metadata": {},
   "source": [
    "### Constraints\n",
    "\n",
    "1. Starting point: packet must leave router A:\n",
    "\n",
    "   $X_{AB} + X_{AC} = 1$\n",
    "\n",
    "2. Ending point: packet must enter router G:\n",
    "\n",
    "   $X_{DG} + X_{EG} = 1$\n",
    "\n",
    "3. Flow conservation (for every intermediate node):\n",
    "   - node B: $X_{AB} + X_{CB} = X_{BD} + X_{BE}$  \n",
    "   - node C: $X_{AC} = X_{CB} + X_{CE} + X_{CF}$  \n",
    "   - node D: $X_{BD} = X_{DE} + X_{DG}$  \n",
    "   - node E: $X_{BE} + X_{CE} + X_{DE} + X_{FE} = X_{EG}$  \n",
    "   - node F: $X_{CF} = X_{FE}$\n",
    "   "
   ]
  },
  {
   "cell_type": "code",
   "execution_count": 30,
   "id": "37810357",
   "metadata": {},
   "outputs": [],
   "source": [
    "#import all the needed library\n",
    "import gurobipy as gp\n",
    "from gurobipy import GRB"
   ]
  },
  {
   "cell_type": "code",
   "execution_count": 31,
   "id": "a0a9437f",
   "metadata": {},
   "outputs": [],
   "source": [
    "#make a dictionary of arcs and their costs\n",
    "arcs, cost = gp.multidict({\n",
    "    ('A', 'B'): 4,('A', 'C'): 3,\n",
    "    ('B', 'D'): 6,('B', 'E'): 5,\n",
    "    ('C', 'B'): 3,('C', 'E'): 4,('C', 'F'): 6,\n",
    "    ('D', 'G'): 1,('D', 'E'): 2,\n",
    "    ('F', 'E'): 6,\n",
    "    ('E', 'G'): 3,\n",
    "      })\n"
   ]
  },
  {
   "cell_type": "code",
   "execution_count": 32,
   "id": "99e36724",
   "metadata": {},
   "outputs": [],
   "source": [
    "#create the model\n",
    "\n",
    "model = gp.Model('Computer_Network_fastest_path')\n",
    "\n",
    "#create the decision variables\n",
    "X = model.addVars(arcs, vtype= GRB.BINARY, name='X')"
   ]
  },
  {
   "cell_type": "code",
   "execution_count": 33,
   "id": "cdb8297f",
   "metadata": {},
   "outputs": [],
   "source": [
    "#objective function\n",
    "model.setObjective(sum(cost[a]* X[a] for a in arcs), GRB.MINIMIZE)"
   ]
  },
  {
   "cell_type": "code",
   "execution_count": 34,
   "id": "4161ba5b",
   "metadata": {},
   "outputs": [],
   "source": [
    "#add the constraints\n",
    "\n",
    "#source node constraint\n",
    "model.addConstr(X.sum('A', '*') == 1, 'source')\n",
    "\n",
    "#destination node constraint\n",
    "model.addConstr(X.sum('*', 'G') == 1, 'destination')\n",
    "\n",
    "#flow conservation constraints\n",
    "for n in ['B', 'C', 'D', 'E', 'F']:\n",
    "    model.addConstr(X.sum('*', n) == X.sum(n, '*'))\n",
    "    #model.addConstr(X.sum('n', '*') - x.sum('*', 'n') == 0)\n"
   ]
  },
  {
   "cell_type": "code",
   "execution_count": 35,
   "id": "ea8ba263",
   "metadata": {},
   "outputs": [
    {
     "name": "stdout",
     "output_type": "stream",
     "text": [
      "The fastest path from A to G is: [('A', 'C'), ('C', 'E'), ('E', 'G')] \n",
      "the total cost is: 10.0\n"
     ]
    }
   ],
   "source": [
    "#turn off the solver output\n",
    "gp.setParam('OutputFlag', 0)\n",
    "#optimize the model\n",
    "model.optimize()\n",
    "#print the results\n",
    "path = [ a for a in arcs if X[a].X > 0.5]\n",
    "print('The fastest path from A to G is:', path, \n",
    "      '\\nthe total cost is:', model.objVal)"
   ]
  }
 ],
 "metadata": {
  "kernelspec": {
   "display_name": ".venv (3.13.7)",
   "language": "python",
   "name": "python3"
  },
  "language_info": {
   "codemirror_mode": {
    "name": "ipython",
    "version": 3
   },
   "file_extension": ".py",
   "mimetype": "text/x-python",
   "name": "python",
   "nbconvert_exporter": "python",
   "pygments_lexer": "ipython3",
   "version": "3.13.7"
  }
 },
 "nbformat": 4,
 "nbformat_minor": 5
}
