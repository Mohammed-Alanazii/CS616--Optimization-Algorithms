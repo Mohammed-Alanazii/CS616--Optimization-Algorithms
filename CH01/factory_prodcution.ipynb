{
 "cells": [
  {
   "cell_type": "markdown",
   "id": "9a75610c",
   "metadata": {},
   "source": [
    "### Factory Production\n",
    "A factory produces two types of building materials.\n",
    "* Sale price: Product A = $140/ton, Product B=$160/ton.\n",
    "* During production, a special ingredient X is added. \n",
    "* Each ton of product A or B produced requires 2 , 4 cubic meters of ingredient X, respectively. Only 28 cubic meters of ingredient X are available in production per week.\n",
    "* The worker who produces the materials can work up to 50 hours/week. The machine producing the materials is able to construct a ton of product at a time, while the process lasts 5 hours.\n",
    "* The finished products are stored in bins: 8 tons of product A and 6 tons of product B.\n",
    "\n",
    "#### The purpose of solving the problem is to determine the quantity of product A and of product B that can be produced every week in order to achieve maximization of the total weekly profit.\n",
    "\n"
   ]
  },
  {
   "cell_type": "markdown",
   "id": "fc9c6953",
   "metadata": {},
   "source": [
    "### Decision Variables \n",
    "\n",
    "* The Quantity of product A\n",
    "* The quantity of product B\n",
    "\n",
    "$$\n",
    "X_A,\\; X_B \\in \\mathbb{R}_{+}\n",
    "$$\n"
   ]
  },
  {
   "cell_type": "markdown",
   "id": "b6796ca3",
   "metadata": {},
   "source": [
    "### Objective Function\n",
    "\n",
    "  \n",
    "$$\n",
    "\\max Z = 140X_A + 160X_B\n",
    "$$"
   ]
  },
  {
   "cell_type": "markdown",
   "id": "77f61e16",
   "metadata": {},
   "source": [
    "### Constraints\n",
    "\n",
    "\n",
    "\\begin{aligned}\n",
    "\\text{Ingredient availability:}            && 2X_A + 4X_B &\\leq 28 \\\\[4pt]\n",
    "\\text{Total production time:}              && 5X_A + 5X_B &\\leq 50 \\\\[4pt]\n",
    "\\text{Storage availability for A:}         && X_A &\\leq 8 \\\\[4pt]\n",
    "\\text{Storage availability for B:}         && X_B &\\leq 6 \\\\[4pt]\n",
    "\\text{Non-negativity:}                     && X_A,\\; X_B &\\geq 0\n",
    "\\end{aligned}\n"
   ]
  },
  {
   "cell_type": "code",
   "execution_count": 9,
   "id": "0612707e",
   "metadata": {},
   "outputs": [],
   "source": [
    "#import all the needed libraries\n",
    "import gurobipy as gp\n",
    "from gurobipy import GRB"
   ]
  },
  {
   "cell_type": "code",
   "execution_count": 10,
   "id": "8a8c79cd",
   "metadata": {},
   "outputs": [],
   "source": [
    "data  = {\n",
    "    'sale_price' : {\"A\" : 140, \"B\" : 160},\n",
    "    'ingredient_X_use' : {\"A\" : 2, \"B\" : 4},\n",
    "    'ingredient_X_available' : 28,\n",
    "    'max_production_hours': 50,\n",
    "    'production_hours_per_ton': 5,\n",
    "    'bin_capacity': {\"A\" : 8, \"B\" : 6}    \n",
    "}"
   ]
  },
  {
   "cell_type": "code",
   "execution_count": 11,
   "id": "0f898a7e",
   "metadata": {},
   "outputs": [],
   "source": [
    "#build the model\n",
    "model = gp.Model('factory_production')\n",
    "\n",
    "#create the decision variables\n",
    "X_A = model.addVar(lb= 0,name='X_A')\n",
    "X_B = model.addVar(lb= 0, name='X_B')"
   ]
  },
  {
   "cell_type": "code",
   "execution_count": 12,
   "id": "2010ccdd",
   "metadata": {},
   "outputs": [
    {
     "data": {
      "text/plain": [
       "<gurobi.Constr *Awaiting Model Update*>"
      ]
     },
     "execution_count": 12,
     "metadata": {},
     "output_type": "execute_result"
    }
   ],
   "source": [
    "#objective function\n",
    "model.setObjective(data['sale_price']['A'] * X_A + data['sale_price']['B'] * X_B, GRB.MAXIMIZE)\n",
    "\n",
    "\n",
    "#add the constraints\n",
    "model.addConstr(data['ingredient_X_use']['A'] * X_A + data['ingredient_X_use']['B'] * X_B <= data['ingredient_X_available'])\n",
    "model.addConstr(data['production_hours_per_ton'] * (X_A + X_B) <= data['max_production_hours'])\n",
    "model.addConstr(X_A <= data['bin_capacity']['A'])\n",
    "model.addConstr(X_B <= data['bin_capacity']['B'])"
   ]
  },
  {
   "cell_type": "code",
   "execution_count": 13,
   "id": "d88440dd",
   "metadata": {},
   "outputs": [
    {
     "name": "stdout",
     "output_type": "stream",
     "text": [
      "Optimal production of product A: 6.0 tons\n",
      "Optimal production of product B: 4.0 tons\n",
      "Maximum Profit: $1480.0\n"
     ]
    }
   ],
   "source": [
    "#turn off the Gurobi output\n",
    "model.setParam('OutputFlag', 0)\n",
    "\n",
    "#optimize the model\n",
    "model.optimize()\n",
    "\n",
    "#print the results\n",
    "print(f\"Optimal production of product A: {X_A.X} tons\")\n",
    "print(f\"Optimal production of product B: {X_B.X} tons\")\n",
    "print(f\"Maximum Profit: ${model.ObjVal}\")"
   ]
  }
 ],
 "metadata": {
  "kernelspec": {
   "display_name": ".venv (3.13.7)",
   "language": "python",
   "name": "python3"
  },
  "language_info": {
   "codemirror_mode": {
    "name": "ipython",
    "version": 3
   },
   "file_extension": ".py",
   "mimetype": "text/x-python",
   "name": "python",
   "nbconvert_exporter": "python",
   "pygments_lexer": "ipython3",
   "version": "3.13.7"
  }
 },
 "nbformat": 4,
 "nbformat_minor": 5
}
