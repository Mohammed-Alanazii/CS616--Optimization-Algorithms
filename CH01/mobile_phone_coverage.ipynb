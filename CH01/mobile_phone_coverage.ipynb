{
 "cells": [
  {
   "cell_type": "markdown",
   "id": "7677c0f8",
   "metadata": {},
   "source": [
    "#### Mobile Phone Coverage\n",
    "\n",
    "\n",
    "- A mobile phone company is newly installed in a country whose plan is presented in the figure beside. \n",
    "- The transmitting antennas can be placed in sites A,B,...,G located on the common borders of the different areas of the country. \n",
    "- An antenna placed on a given site can cover the two zones whose common borders shelter this site.\n",
    "- The company’s goal is to ensure, at the lowest cost, the coverage of each zone with at least one antenna, while covering zone 4 with at least two antennas.\n",
    "\n",
    "<img src=\"image02.png\" alt=\"Diagram showing the zones, the borders and the sites\" width=\"400\" height=\"auto\">"
   ]
  },
  {
   "cell_type": "markdown",
   "id": "9de65d50",
   "metadata": {},
   "source": [
    "### Decision Variables\n",
    "\n",
    "$X_s \\in \\{0,1\\}$ for each site $s \\in \\{\\mathsf{A,B,C,D,E,F,G}\\}$,  \n",
    "with $X_s = 1$ if an antenna is installed at site $s$, or else $0$."
   ]
  },
  {
   "cell_type": "markdown",
   "id": "6aa3b8a2",
   "metadata": {},
   "source": [
    "### Objective Function\n",
    "\n",
    "Minimise the total number of installed antennas:  \n",
    "$Min Z = \\sum_{s\\,\\in\\,\\mathcal{S}} X_s = X_{\\!A} + X_{\\!B} + X_{\\!C} + X_{\\!D} + X_{\\!E} + X_{\\!F} + X_{\\!G}$\n",
    "\n",
    "where $ {S} = \\{\\mathsf{A,B,C,D,E,F,G}\\}$\n"
   ]
  },
  {
   "cell_type": "markdown",
   "id": "6101899d",
   "metadata": {},
   "source": [
    "### Constraints\n",
    "\n",
    "- Zone 1: $X_{\\!A} + X_{\\!B} + X_{\\!C} \\geq 1$  \n",
    "- Zone 2: $X_{\\!A} + X_{\\!E} + X_{\\!F} \\geq 1$  \n",
    "- Zone 3: $X_{\\!B} + X_{\\!D} \\geq 1$  \n",
    "- Zone 5: $X_{\\!F} + X_{\\!G} \\geq 1$  \n",
    "- Zone 4: $X_{\\!C} + X_{\\!D} + X_{\\!E} + X_{\\!G} \\geq 2$  \n"
   ]
  },
  {
   "cell_type": "code",
   "execution_count": 20,
   "id": "c2222e15",
   "metadata": {},
   "outputs": [],
   "source": [
    "#import all the needed library\n",
    "import gurobipy as gp\n",
    "from gurobipy import GRB\n"
   ]
  },
  {
   "cell_type": "code",
   "execution_count": 21,
   "id": "9d1f91f2",
   "metadata": {},
   "outputs": [],
   "source": [
    "# prepare the data\n",
    "\n",
    "sites = ['A','B','C','D','E','F','G']\n",
    "zones = ['Zone1','Zone2','Zone3','Zone4','Zone5']\n",
    "coverage = {'Zone1': ['A','B','C'],\n",
    "           'Zone2': ['A','E','F'],\n",
    "           'Zone3': ['B','D'],\n",
    "           'Zone4': ['C','D','E','G'],\n",
    "           'Zone5': ['F','G']\n",
    "           }\n",
    "zone_req = {'Zone1': 1,\n",
    "            'Zone2': 1,\n",
    "            'Zone3': 1,\n",
    "            'Zone4': 2,\n",
    "            'Zone5': 1\n",
    "            }\n"
   ]
  },
  {
   "cell_type": "code",
   "execution_count": 22,
   "id": "3c12a0a2",
   "metadata": {},
   "outputs": [],
   "source": [
    "#build the model\n",
    "model = gp.Model('Mobile_phone_coverage')\n",
    "\n",
    "#create the decision variables\n",
    "X = model.addVars(sites, vtype= GRB.BINARY, name='X')"
   ]
  },
  {
   "cell_type": "code",
   "execution_count": 23,
   "id": "0168c5e1",
   "metadata": {},
   "outputs": [],
   "source": [
    "#objective function\n",
    "model.setObjective(sum(X[s] for s in sites), GRB.MINIMIZE)"
   ]
  },
  {
   "cell_type": "code",
   "execution_count": 24,
   "id": "297a428e",
   "metadata": {},
   "outputs": [],
   "source": [
    "#add the constraints\n",
    "for z in zones:\n",
    "    model.addConstr(sum(X[s] for s in coverage[z]) >= zone_req[z])"
   ]
  },
  {
   "cell_type": "code",
   "execution_count": 25,
   "id": "08f20338",
   "metadata": {},
   "outputs": [
    {
     "name": "stdout",
     "output_type": "stream",
     "text": [
      "The selected sites are: ['C', 'D', 'F'] \n",
      "the total number of sites is: 3.0\n"
     ]
    }
   ],
   "source": [
    "#turn off the solver output\n",
    "gp.setParam('OutputFlag', 0)\n",
    "\n",
    "#optimize the model\n",
    "model.optimize()\n",
    "\n",
    "#print the results    \n",
    "selected_sites = [s for s in sites if X[s].X > 0.5]\n",
    "print('The selected sites are:', selected_sites, \n",
    "      '\\nthe total number of sites is:', model.objVal)"
   ]
  }
 ],
 "metadata": {
  "kernelspec": {
   "display_name": ".venv (3.13.7)",
   "language": "python",
   "name": "python3"
  },
  "language_info": {
   "codemirror_mode": {
    "name": "ipython",
    "version": 3
   },
   "file_extension": ".py",
   "mimetype": "text/x-python",
   "name": "python",
   "nbconvert_exporter": "python",
   "pygments_lexer": "ipython3",
   "version": "3.13.7"
  }
 },
 "nbformat": 4,
 "nbformat_minor": 5
}
