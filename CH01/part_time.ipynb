{
 "cells": [
  {
   "cell_type": "markdown",
   "id": "4f5ddb73",
   "metadata": {},
   "source": [
    "### Part-time Student-job Working Hours\n",
    "Mohamed is a college student who works two jobs on campus.\n",
    "* He must work for at least 5 hours per week at the library and 2 hours per week as a tutor, but he is not allowed to work more than 20 hours per week total.\n",
    "* Mohamed gets $7 per hour at the library and $10 per hour at tutoring and he want to make at last $170 during the current week.\n",
    "* He prefers working at the library though, so he wants to have at least as many library hours as tutoring hours.\n",
    "\n",
    "#### What is the minimum number of hours he can work at each job this week to meet his goals and preferences?\n"
   ]
  },
  {
   "cell_type": "markdown",
   "id": "b070ae9a",
   "metadata": {},
   "source": [
    "### Decision variables\n",
    "* The number of working hours as tutoring X_t.\n",
    "* The number of working hours at library X_l.\n",
    "\n",
    "\\begin{align}\n",
    "X_L, X_T \\in \\mathbb{N} \n",
    "\\end{align}\n"
   ]
  },
  {
   "cell_type": "markdown",
   "id": "4e9ef065",
   "metadata": {},
   "source": [
    "### Objective function\n",
    "\n",
    "\\begin{align}\n",
    "Min_z = \\sum(X_L , X_T)\n",
    "\\end{align}"
   ]
  },
  {
   "cell_type": "markdown",
   "id": "e911b875",
   "metadata": {},
   "source": [
    "### Constraints\n",
    "\n",
    "\\begin{aligned}\n",
    "\\text{Library time requirement:} \\quad & X_L \\geq 5 \\\\\n",
    "\\text{Tutoring time requirement:} \\quad & X_T \\geq 2 \\\\\n",
    "\\text{Maximum total working hours:} \\quad & X_L + X_T \\leq 20 \\\\\n",
    "\\text{Budget goal:} \\quad & 7X_L + 10X_T \\geq 170 \\\\\n",
    "\\text{Preference:} \\quad & X_L \\geq X_T\n",
    "\\end{aligned}\n"
   ]
  },
  {
   "cell_type": "code",
   "execution_count": 13,
   "id": "13361e53",
   "metadata": {},
   "outputs": [],
   "source": [
    "#import all the needed libraries\n",
    "import gurobipy as gp\n",
    "from gurobipy import GRB"
   ]
  },
  {
   "cell_type": "code",
   "execution_count": 14,
   "id": "1b739b01",
   "metadata": {},
   "outputs": [],
   "source": [
    "data = {'min_hours_library': 5,\n",
    "        'min_hours_tutoring': 2,\n",
    "        'max_total_hours': 20,\n",
    "        'wage_library': 7,\n",
    "        'wage_tutoring': 10,\n",
    "        'min_income': 170}"
   ]
  },
  {
   "cell_type": "code",
   "execution_count": 15,
   "id": "a9132346",
   "metadata": {},
   "outputs": [],
   "source": [
    "#build the model\n",
    "model = gp.Model('part_time_job')\n",
    "\n",
    "#create the decision variables\n",
    "hours_library = model.addVar(lb= 0,name='hours_library')\n",
    "hours_tutoring = model.addVar(lb= 0, name='hours_tutoring')"
   ]
  },
  {
   "cell_type": "code",
   "execution_count": 16,
   "id": "9f520fe9",
   "metadata": {},
   "outputs": [
    {
     "data": {
      "text/plain": [
       "<gurobi.Constr *Awaiting Model Update*>"
      ]
     },
     "execution_count": 16,
     "metadata": {},
     "output_type": "execute_result"
    }
   ],
   "source": [
    "#add the constraints\n",
    "model.addConstr(hours_library >= data['min_hours_library'])\n",
    "model.addConstr(hours_tutoring >= data['min_hours_tutoring'])\n",
    "model.addConstr(hours_library + hours_tutoring <= data['max_total_hours'])\n",
    "model.addConstr(data['wage_library'] * hours_library + data['wage_tutoring'] * hours_tutoring >= data['min_income'])   \n",
    "model.addConstr(hours_library >= hours_tutoring)"
   ]
  },
  {
   "cell_type": "code",
   "execution_count": 17,
   "id": "249d8e9a",
   "metadata": {},
   "outputs": [
    {
     "name": "stdout",
     "output_type": "stream",
     "text": [
      "Hours in library: 10.0\n",
      "Hours in tutoring: 10.0\n",
      "Total hours: 20.0\n",
      "Total income: $170.0\n"
     ]
    }
   ],
   "source": [
    "#turn of the solver output\n",
    "model.setParam('OutputFlag', 0)\n",
    "\n",
    "#optimize the model\n",
    "model.optimize()\n",
    "\n",
    "#print the results\n",
    "print(f'Hours in library: {hours_library.X}')\n",
    "print(f'Hours in tutoring: {hours_tutoring.X}')\n",
    "print(f'Total hours: {hours_library.X + hours_tutoring.X}')\n",
    "print(f'Total income: ${data[\"wage_library\"] * hours_library.X + data[\"wage_tutoring\"] * hours_tutoring.X}')\n"
   ]
  }
 ],
 "metadata": {
  "kernelspec": {
   "display_name": ".venv (3.13.7)",
   "language": "python",
   "name": "python3"
  },
  "language_info": {
   "codemirror_mode": {
    "name": "ipython",
    "version": 3
   },
   "file_extension": ".py",
   "mimetype": "text/x-python",
   "name": "python",
   "nbconvert_exporter": "python",
   "pygments_lexer": "ipython3",
   "version": "3.13.7"
  }
 },
 "nbformat": 4,
 "nbformat_minor": 5
}
